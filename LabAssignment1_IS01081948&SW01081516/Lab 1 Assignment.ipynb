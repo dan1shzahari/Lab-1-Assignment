{
 "cells": [
  {
   "cell_type": "code",
   "execution_count": 1,
   "id": "6414393b",
   "metadata": {},
   "outputs": [],
   "source": [
    "import re\n",
    "import requests\n",
    "from datetime import datetime\n",
    "import csv  # Import the csv module\n",
    "\n",
    "# URL of the product\n",
    "url = 'https://shopee.com.my/Kodak-ColorPlus-200-Color-Negative-Film-(35mm-Roll-Film)-(Exp-Date-01-2025)-i.64337744.20786894660?sp_atk=f5c793a2-7ecd-494d-8329-d37cd1e65a58&xptdk=f5c793a2-7ecd-494d-8329-d37cd1e65a58'\n",
    "\n",
    "# Using regular expression to extract shop ID and item ID from the URL\n",
    "r = re.search(r'i\\.(\\d+)\\.(\\d+)', url)\n",
    "if r:\n",
    "    shop_id, item_id = r.group(1), r.group(2)\n",
    "else:\n",
    "    print(\"Invalid URL\")\n",
    "    exit()\n",
    "\n",
    "# Initialize offset for pagination\n",
    "offset = 0\n",
    "\n",
    "# Open CSV file in write mode and create a CSV writer object\n",
    "with open('reviews.csv', 'w', newline='', encoding='utf-8') as csvfile:\n",
    "    fieldnames = ['Username', 'Date', 'Comment']\n",
    "    writer = csv.DictWriter(csvfile, fieldnames=fieldnames)\n",
    "\n",
    "    # Write header to the CSV file\n",
    "    writer.writeheader()\n",
    "\n",
    "    # Loop to fetch ratings until all ratings are fetched\n",
    "    while True:\n",
    "        ratings_url = f'https://shopee.com.my/api/v2/item/get_ratings?filter=0&flag=1&itemid={item_id}&limit=20&offset={offset}&shopid={shop_id}&type=0'\n",
    "        # Fetch data from the ratings URL\n",
    "        data = requests.get(ratings_url).json()\n",
    "\n",
    "        # Loop through each rating in the fetched data\n",
    "        for rating in data['data']['ratings']:\n",
    "            # Extract username, comment, and date from the rating\n",
    "            username = rating['author_username']\n",
    "            comment = rating['comment']\n",
    "            date = datetime.fromtimestamp(rating['ctime']).strftime('%Y-%m-%d %H:%M:%S')\n",
    "            \n",
    "            # Write data to the CSV file row by row\n",
    "            writer.writerow({'Username': username, 'Date': date, 'Comment': comment})\n",
    "\n",
    "        # Check if all ratings are fetched\n",
    "        if len(data['data']['ratings']) < 20:\n",
    "            break\n",
    "\n",
    "        # Increment offset for pagination\n",
    "        offset += 20"
   ]
  },
  {
   "cell_type": "code",
   "execution_count": null,
   "id": "3b6bd41a",
   "metadata": {},
   "outputs": [],
   "source": []
  }
 ],
 "metadata": {
  "kernelspec": {
   "display_name": "Python 3 (ipykernel)",
   "language": "python",
   "name": "python3"
  },
  "language_info": {
   "codemirror_mode": {
    "name": "ipython",
    "version": 3
   },
   "file_extension": ".py",
   "mimetype": "text/x-python",
   "name": "python",
   "nbconvert_exporter": "python",
   "pygments_lexer": "ipython3",
   "version": "3.11.5"
  }
 },
 "nbformat": 4,
 "nbformat_minor": 5
}
